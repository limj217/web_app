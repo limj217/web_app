{
 "cells": [
  {
   "cell_type": "code",
   "execution_count": 1,
   "id": "4699ed46",
   "metadata": {},
   "outputs": [
    {
     "data": {
      "application/vnd.jupyter.widget-view+json": {
       "model_id": "ebde9cf1188f4f1b88149918baecf762",
       "version_major": 2,
       "version_minor": 0
      },
      "text/plain": [
       "VBox(children=(FloatSlider(value=4.0, description='$x$'), FloatText(value=0.0, description='$x^2$', disabled=T…"
      ]
     },
     "metadata": {},
     "output_type": "display_data"
    }
   ],
   "source": [
    "import ipywidgets as widgets\n",
    "\n",
    "slider = widgets.FloatSlider(description='$x$', value=4)\n",
    "text = widgets.FloatText(disabled=True, description='$x^2$')\n",
    "\n",
    "def compute(*ignore):\n",
    "    text.value = str(slider.value ** 2)\n",
    "\n",
    "slider.observe(compute, 'value')\n",
    "\n",
    "widgets.VBox([slider, text])"
   ]
  },
  {
   "cell_type": "code",
   "execution_count": 2,
   "id": "4b6226e1",
   "metadata": {},
   "outputs": [],
   "source": [
    "# !pip install pandas"
   ]
  },
  {
   "cell_type": "code",
   "execution_count": 3,
   "id": "4ba6a15d",
   "metadata": {},
   "outputs": [
    {
     "data": {
      "text/html": [
       "<div>\n",
       "<style scoped>\n",
       "    .dataframe tbody tr th:only-of-type {\n",
       "        vertical-align: middle;\n",
       "    }\n",
       "\n",
       "    .dataframe tbody tr th {\n",
       "        vertical-align: top;\n",
       "    }\n",
       "\n",
       "    .dataframe thead th {\n",
       "        text-align: right;\n",
       "    }\n",
       "</style>\n",
       "<table border=\"1\" class=\"dataframe\">\n",
       "  <thead>\n",
       "    <tr style=\"text-align: right;\">\n",
       "      <th></th>\n",
       "      <th>sepal_length</th>\n",
       "      <th>sepal_width</th>\n",
       "      <th>petal_length</th>\n",
       "      <th>petal_width</th>\n",
       "      <th>species</th>\n",
       "    </tr>\n",
       "  </thead>\n",
       "  <tbody>\n",
       "    <tr>\n",
       "      <th>0</th>\n",
       "      <td>5.1</td>\n",
       "      <td>3.5</td>\n",
       "      <td>1.4</td>\n",
       "      <td>0.2</td>\n",
       "      <td>setosa</td>\n",
       "    </tr>\n",
       "    <tr>\n",
       "      <th>1</th>\n",
       "      <td>4.9</td>\n",
       "      <td>3.0</td>\n",
       "      <td>1.4</td>\n",
       "      <td>0.2</td>\n",
       "      <td>setosa</td>\n",
       "    </tr>\n",
       "    <tr>\n",
       "      <th>2</th>\n",
       "      <td>4.7</td>\n",
       "      <td>3.2</td>\n",
       "      <td>1.3</td>\n",
       "      <td>0.2</td>\n",
       "      <td>setosa</td>\n",
       "    </tr>\n",
       "    <tr>\n",
       "      <th>3</th>\n",
       "      <td>4.6</td>\n",
       "      <td>3.1</td>\n",
       "      <td>1.5</td>\n",
       "      <td>0.2</td>\n",
       "      <td>setosa</td>\n",
       "    </tr>\n",
       "    <tr>\n",
       "      <th>4</th>\n",
       "      <td>5.0</td>\n",
       "      <td>3.6</td>\n",
       "      <td>1.4</td>\n",
       "      <td>0.2</td>\n",
       "      <td>setosa</td>\n",
       "    </tr>\n",
       "    <tr>\n",
       "      <th>...</th>\n",
       "      <td>...</td>\n",
       "      <td>...</td>\n",
       "      <td>...</td>\n",
       "      <td>...</td>\n",
       "      <td>...</td>\n",
       "    </tr>\n",
       "    <tr>\n",
       "      <th>145</th>\n",
       "      <td>6.7</td>\n",
       "      <td>3.0</td>\n",
       "      <td>5.2</td>\n",
       "      <td>2.3</td>\n",
       "      <td>virginica</td>\n",
       "    </tr>\n",
       "    <tr>\n",
       "      <th>146</th>\n",
       "      <td>6.3</td>\n",
       "      <td>2.5</td>\n",
       "      <td>5.0</td>\n",
       "      <td>1.9</td>\n",
       "      <td>virginica</td>\n",
       "    </tr>\n",
       "    <tr>\n",
       "      <th>147</th>\n",
       "      <td>6.5</td>\n",
       "      <td>3.0</td>\n",
       "      <td>5.2</td>\n",
       "      <td>2.0</td>\n",
       "      <td>virginica</td>\n",
       "    </tr>\n",
       "    <tr>\n",
       "      <th>148</th>\n",
       "      <td>6.2</td>\n",
       "      <td>3.4</td>\n",
       "      <td>5.4</td>\n",
       "      <td>2.3</td>\n",
       "      <td>virginica</td>\n",
       "    </tr>\n",
       "    <tr>\n",
       "      <th>149</th>\n",
       "      <td>5.9</td>\n",
       "      <td>3.0</td>\n",
       "      <td>5.1</td>\n",
       "      <td>1.8</td>\n",
       "      <td>virginica</td>\n",
       "    </tr>\n",
       "  </tbody>\n",
       "</table>\n",
       "<p>150 rows × 5 columns</p>\n",
       "</div>"
      ],
      "text/plain": [
       "     sepal_length  sepal_width  petal_length  petal_width    species\n",
       "0             5.1          3.5           1.4          0.2     setosa\n",
       "1             4.9          3.0           1.4          0.2     setosa\n",
       "2             4.7          3.2           1.3          0.2     setosa\n",
       "3             4.6          3.1           1.5          0.2     setosa\n",
       "4             5.0          3.6           1.4          0.2     setosa\n",
       "..            ...          ...           ...          ...        ...\n",
       "145           6.7          3.0           5.2          2.3  virginica\n",
       "146           6.3          2.5           5.0          1.9  virginica\n",
       "147           6.5          3.0           5.2          2.0  virginica\n",
       "148           6.2          3.4           5.4          2.3  virginica\n",
       "149           5.9          3.0           5.1          1.8  virginica\n",
       "\n",
       "[150 rows x 5 columns]"
      ]
     },
     "execution_count": 3,
     "metadata": {},
     "output_type": "execute_result"
    }
   ],
   "source": [
    "import pandas as pd\n",
    "\n",
    "iris = pd.read_csv('https://raw.githubusercontent.com/mwaskom/seaborn-data/master/iris.csv')\n",
    "iris"
   ]
  },
  {
   "cell_type": "code",
   "execution_count": 4,
   "id": "1d151f50",
   "metadata": {},
   "outputs": [],
   "source": [
    "# pip install matplotlib"
   ]
  },
  {
   "cell_type": "code",
   "execution_count": 5,
   "id": "0d90b869",
   "metadata": {},
   "outputs": [],
   "source": [
    "# matplotlib.__version__"
   ]
  },
  {
   "cell_type": "code",
   "execution_count": 6,
   "id": "59602a13",
   "metadata": {},
   "outputs": [
    {
     "name": "stdout",
     "output_type": "stream",
     "text": [
      "Requirement already satisfied: ipympl in c:\\users\\limj\\anaconda3\\lib\\site-packages (0.9.1)\n",
      "Requirement already satisfied: traitlets<6 in c:\\users\\limj\\anaconda3\\lib\\site-packages (from ipympl) (5.1.0)\n",
      "Requirement already satisfied: numpy in c:\\users\\limj\\anaconda3\\lib\\site-packages (from ipympl) (1.20.3)\n",
      "Requirement already satisfied: ipywidgets<8,>=7.6.0 in c:\\users\\limj\\anaconda3\\lib\\site-packages (from ipympl) (7.6.5)\n",
      "Requirement already satisfied: matplotlib<4,>=3.4.0 in c:\\users\\limj\\anaconda3\\lib\\site-packages (from ipympl) (3.4.3)\n",
      "Requirement already satisfied: ipython-genutils in c:\\users\\limj\\anaconda3\\lib\\site-packages (from ipympl) (0.2.0)\n",
      "Requirement already satisfied: pillow in c:\\users\\limj\\anaconda3\\lib\\site-packages (from ipympl) (8.4.0)\n",
      "Requirement already satisfied: ipython<9 in c:\\users\\limj\\anaconda3\\lib\\site-packages (from ipympl) (7.29.0)\n",
      "Requirement already satisfied: pickleshare in c:\\users\\limj\\anaconda3\\lib\\site-packages (from ipython<9->ipympl) (0.7.5)Note: you may need to restart the kernel to use updated packages.\n",
      "\n",
      "Requirement already satisfied: pygments in c:\\users\\limj\\anaconda3\\lib\\site-packages (from ipython<9->ipympl) (2.10.0)\n",
      "Requirement already satisfied: jedi>=0.16 in c:\\users\\limj\\anaconda3\\lib\\site-packages (from ipython<9->ipympl) (0.18.0)\n",
      "Requirement already satisfied: matplotlib-inline in c:\\users\\limj\\anaconda3\\lib\\site-packages (from ipython<9->ipympl) (0.1.2)\n",
      "Requirement already satisfied: colorama in c:\\users\\limj\\anaconda3\\lib\\site-packages (from ipython<9->ipympl) (0.4.4)\n",
      "Requirement already satisfied: prompt-toolkit!=3.0.0,!=3.0.1,<3.1.0,>=2.0.0 in c:\\users\\limj\\anaconda3\\lib\\site-packages (from ipython<9->ipympl) (3.0.20)\n",
      "Requirement already satisfied: backcall in c:\\users\\limj\\anaconda3\\lib\\site-packages (from ipython<9->ipympl) (0.2.0)\n",
      "Requirement already satisfied: decorator in c:\\users\\limj\\anaconda3\\lib\\site-packages (from ipython<9->ipympl) (5.1.0)\n",
      "Requirement already satisfied: setuptools>=18.5 in c:\\users\\limj\\anaconda3\\lib\\site-packages (from ipython<9->ipympl) (58.0.4)\n",
      "Requirement already satisfied: nbformat>=4.2.0 in c:\\users\\limj\\anaconda3\\lib\\site-packages (from ipywidgets<8,>=7.6.0->ipympl) (5.4.0)\n",
      "Requirement already satisfied: widgetsnbextension~=3.5.0 in c:\\users\\limj\\anaconda3\\lib\\site-packages (from ipywidgets<8,>=7.6.0->ipympl) (3.5.1)\n",
      "Requirement already satisfied: jupyterlab-widgets>=1.0.0 in c:\\users\\limj\\anaconda3\\lib\\site-packages (from ipywidgets<8,>=7.6.0->ipympl) (1.0.0)\n",
      "Requirement already satisfied: ipykernel>=4.5.1 in c:\\users\\limj\\anaconda3\\lib\\site-packages (from ipywidgets<8,>=7.6.0->ipympl) (6.4.1)\n",
      "Requirement already satisfied: jupyter-client<8.0 in c:\\users\\limj\\anaconda3\\lib\\site-packages (from ipykernel>=4.5.1->ipywidgets<8,>=7.6.0->ipympl) (6.1.12)\n",
      "Requirement already satisfied: debugpy<2.0,>=1.0.0 in c:\\users\\limj\\anaconda3\\lib\\site-packages (from ipykernel>=4.5.1->ipywidgets<8,>=7.6.0->ipympl) (1.4.1)\n",
      "Requirement already satisfied: tornado<7.0,>=4.2 in c:\\users\\limj\\anaconda3\\lib\\site-packages (from ipykernel>=4.5.1->ipywidgets<8,>=7.6.0->ipympl) (6.1)\n",
      "Requirement already satisfied: parso<0.9.0,>=0.8.0 in c:\\users\\limj\\anaconda3\\lib\\site-packages (from jedi>=0.16->ipython<9->ipympl) (0.8.2)\n",
      "Requirement already satisfied: pyzmq>=13 in c:\\users\\limj\\anaconda3\\lib\\site-packages (from jupyter-client<8.0->ipykernel>=4.5.1->ipywidgets<8,>=7.6.0->ipympl) (22.2.1)\n",
      "Requirement already satisfied: python-dateutil>=2.1 in c:\\users\\limj\\anaconda3\\lib\\site-packages (from jupyter-client<8.0->ipykernel>=4.5.1->ipywidgets<8,>=7.6.0->ipympl) (2.8.2)\n",
      "Requirement already satisfied: jupyter-core>=4.6.0 in c:\\users\\limj\\anaconda3\\lib\\site-packages (from jupyter-client<8.0->ipykernel>=4.5.1->ipywidgets<8,>=7.6.0->ipympl) (4.11.1)\n",
      "Requirement already satisfied: pywin32>=1.0 in c:\\users\\limj\\anaconda3\\lib\\site-packages (from jupyter-core>=4.6.0->jupyter-client<8.0->ipykernel>=4.5.1->ipywidgets<8,>=7.6.0->ipympl) (228)\n",
      "Requirement already satisfied: kiwisolver>=1.0.1 in c:\\users\\limj\\anaconda3\\lib\\site-packages (from matplotlib<4,>=3.4.0->ipympl) (1.3.1)\n",
      "Requirement already satisfied: pyparsing>=2.2.1 in c:\\users\\limj\\anaconda3\\lib\\site-packages (from matplotlib<4,>=3.4.0->ipympl) (3.0.4)\n",
      "Requirement already satisfied: cycler>=0.10 in c:\\users\\limj\\anaconda3\\lib\\site-packages (from matplotlib<4,>=3.4.0->ipympl) (0.10.0)\n",
      "Requirement already satisfied: six in c:\\users\\limj\\anaconda3\\lib\\site-packages (from cycler>=0.10->matplotlib<4,>=3.4.0->ipympl) (1.16.0)\n",
      "Requirement already satisfied: jsonschema>=2.6 in c:\\users\\limj\\anaconda3\\lib\\site-packages (from nbformat>=4.2.0->ipywidgets<8,>=7.6.0->ipympl) (3.2.0)\n",
      "Requirement already satisfied: fastjsonschema in c:\\users\\limj\\anaconda3\\lib\\site-packages (from nbformat>=4.2.0->ipywidgets<8,>=7.6.0->ipympl) (2.16.1)\n",
      "Requirement already satisfied: attrs>=17.4.0 in c:\\users\\limj\\anaconda3\\lib\\site-packages (from jsonschema>=2.6->nbformat>=4.2.0->ipywidgets<8,>=7.6.0->ipympl) (21.2.0)\n",
      "Requirement already satisfied: pyrsistent>=0.14.0 in c:\\users\\limj\\anaconda3\\lib\\site-packages (from jsonschema>=2.6->nbformat>=4.2.0->ipywidgets<8,>=7.6.0->ipympl) (0.18.0)\n",
      "Requirement already satisfied: wcwidth in c:\\users\\limj\\anaconda3\\lib\\site-packages (from prompt-toolkit!=3.0.0,!=3.0.1,<3.1.0,>=2.0.0->ipython<9->ipympl) (0.2.5)\n",
      "Requirement already satisfied: notebook>=4.4.1 in c:\\users\\limj\\anaconda3\\lib\\site-packages (from widgetsnbextension~=3.5.0->ipywidgets<8,>=7.6.0->ipympl) (6.4.5)\n",
      "Requirement already satisfied: jinja2 in c:\\users\\limj\\anaconda3\\lib\\site-packages (from notebook>=4.4.1->widgetsnbextension~=3.5.0->ipywidgets<8,>=7.6.0->ipympl) (3.1.2)\n",
      "Requirement already satisfied: Send2Trash>=1.5.0 in c:\\users\\limj\\anaconda3\\lib\\site-packages (from notebook>=4.4.1->widgetsnbextension~=3.5.0->ipywidgets<8,>=7.6.0->ipympl) (1.8.0)\n",
      "Requirement already satisfied: terminado>=0.8.3 in c:\\users\\limj\\anaconda3\\lib\\site-packages (from notebook>=4.4.1->widgetsnbextension~=3.5.0->ipywidgets<8,>=7.6.0->ipympl) (0.9.4)\n",
      "Requirement already satisfied: prometheus-client in c:\\users\\limj\\anaconda3\\lib\\site-packages (from notebook>=4.4.1->widgetsnbextension~=3.5.0->ipywidgets<8,>=7.6.0->ipympl) (0.11.0)\n",
      "Requirement already satisfied: argon2-cffi in c:\\users\\limj\\anaconda3\\lib\\site-packages (from notebook>=4.4.1->widgetsnbextension~=3.5.0->ipywidgets<8,>=7.6.0->ipympl) (20.1.0)\n",
      "Requirement already satisfied: nbconvert in c:\\users\\limj\\anaconda3\\lib\\site-packages (from notebook>=4.4.1->widgetsnbextension~=3.5.0->ipywidgets<8,>=7.6.0->ipympl) (6.5.2)\n",
      "Requirement already satisfied: pywinpty>=0.5 in c:\\users\\limj\\anaconda3\\lib\\site-packages (from terminado>=0.8.3->notebook>=4.4.1->widgetsnbextension~=3.5.0->ipywidgets<8,>=7.6.0->ipympl) (0.5.7)\n",
      "Requirement already satisfied: cffi>=1.0.0 in c:\\users\\limj\\anaconda3\\lib\\site-packages (from argon2-cffi->notebook>=4.4.1->widgetsnbextension~=3.5.0->ipywidgets<8,>=7.6.0->ipympl) (1.14.6)\n",
      "Requirement already satisfied: pycparser in c:\\users\\limj\\anaconda3\\lib\\site-packages (from cffi>=1.0.0->argon2-cffi->notebook>=4.4.1->widgetsnbextension~=3.5.0->ipywidgets<8,>=7.6.0->ipympl) (2.20)\n",
      "Requirement already satisfied: MarkupSafe>=2.0 in c:\\users\\limj\\anaconda3\\lib\\site-packages (from jinja2->notebook>=4.4.1->widgetsnbextension~=3.5.0->ipywidgets<8,>=7.6.0->ipympl) (2.1.1)\n",
      "Requirement already satisfied: nbclient>=0.5.0 in c:\\users\\limj\\anaconda3\\lib\\site-packages (from nbconvert->notebook>=4.4.1->widgetsnbextension~=3.5.0->ipywidgets<8,>=7.6.0->ipympl) (0.5.3)\n",
      "Requirement already satisfied: entrypoints>=0.2.2 in c:\\users\\limj\\anaconda3\\lib\\site-packages (from nbconvert->notebook>=4.4.1->widgetsnbextension~=3.5.0->ipywidgets<8,>=7.6.0->ipympl) (0.3)\n",
      "Requirement already satisfied: bleach in c:\\users\\limj\\anaconda3\\lib\\site-packages (from nbconvert->notebook>=4.4.1->widgetsnbextension~=3.5.0->ipywidgets<8,>=7.6.0->ipympl) (4.0.0)\n",
      "Requirement already satisfied: tinycss2 in c:\\users\\limj\\anaconda3\\lib\\site-packages (from nbconvert->notebook>=4.4.1->widgetsnbextension~=3.5.0->ipywidgets<8,>=7.6.0->ipympl) (1.1.1)\n",
      "Requirement already satisfied: pandocfilters>=1.4.1 in c:\\users\\limj\\anaconda3\\lib\\site-packages (from nbconvert->notebook>=4.4.1->widgetsnbextension~=3.5.0->ipywidgets<8,>=7.6.0->ipympl) (1.4.3)\n",
      "Requirement already satisfied: lxml in c:\\users\\limj\\anaconda3\\lib\\site-packages (from nbconvert->notebook>=4.4.1->widgetsnbextension~=3.5.0->ipywidgets<8,>=7.6.0->ipympl) (4.6.3)\n",
      "Requirement already satisfied: mistune<2,>=0.8.1 in c:\\users\\limj\\anaconda3\\lib\\site-packages (from nbconvert->notebook>=4.4.1->widgetsnbextension~=3.5.0->ipywidgets<8,>=7.6.0->ipympl) (0.8.4)\n",
      "Requirement already satisfied: jupyterlab-pygments in c:\\users\\limj\\anaconda3\\lib\\site-packages (from nbconvert->notebook>=4.4.1->widgetsnbextension~=3.5.0->ipywidgets<8,>=7.6.0->ipympl) (0.1.2)\n",
      "Requirement already satisfied: beautifulsoup4 in c:\\users\\limj\\anaconda3\\lib\\site-packages (from nbconvert->notebook>=4.4.1->widgetsnbextension~=3.5.0->ipywidgets<8,>=7.6.0->ipympl) (4.10.0)\n",
      "Requirement already satisfied: defusedxml in c:\\users\\limj\\anaconda3\\lib\\site-packages (from nbconvert->notebook>=4.4.1->widgetsnbextension~=3.5.0->ipywidgets<8,>=7.6.0->ipympl) (0.7.1)\n",
      "Requirement already satisfied: packaging in c:\\users\\limj\\anaconda3\\lib\\site-packages (from nbconvert->notebook>=4.4.1->widgetsnbextension~=3.5.0->ipywidgets<8,>=7.6.0->ipympl) (21.0)\n",
      "Requirement already satisfied: async-generator in c:\\users\\limj\\anaconda3\\lib\\site-packages (from nbclient>=0.5.0->nbconvert->notebook>=4.4.1->widgetsnbextension~=3.5.0->ipywidgets<8,>=7.6.0->ipympl) (1.10)\n",
      "Requirement already satisfied: nest-asyncio in c:\\users\\limj\\anaconda3\\lib\\site-packages (from nbclient>=0.5.0->nbconvert->notebook>=4.4.1->widgetsnbextension~=3.5.0->ipywidgets<8,>=7.6.0->ipympl) (1.5.1)\n",
      "Requirement already satisfied: soupsieve>1.2 in c:\\users\\limj\\anaconda3\\lib\\site-packages (from beautifulsoup4->nbconvert->notebook>=4.4.1->widgetsnbextension~=3.5.0->ipywidgets<8,>=7.6.0->ipympl) (2.2.1)\n",
      "Requirement already satisfied: webencodings in c:\\users\\limj\\anaconda3\\lib\\site-packages (from bleach->nbconvert->notebook>=4.4.1->widgetsnbextension~=3.5.0->ipywidgets<8,>=7.6.0->ipympl) (0.5.1)\n"
     ]
    }
   ],
   "source": [
    "# pip install ipympl"
   ]
  },
  {
   "cell_type": "code",
   "execution_count": 9,
   "id": "a08e33f8",
   "metadata": {},
   "outputs": [],
   "source": [
    "#import ipympl"
   ]
  },
  {
   "cell_type": "code",
   "execution_count": 10,
   "id": "fe52a781",
   "metadata": {},
   "outputs": [
    {
     "data": {
      "application/vnd.jupyter.widget-view+json": {
       "model_id": "ac5172506cc0427f856772695aa2f5d4",
       "version_major": 2,
       "version_minor": 0
      },
      "image/png": "[encoded data removed]",
      "text/html": [
       "\n",
       "            <div style=\"display: inline-block;\">\n",
       "                <div class=\"jupyter-widgets widget-label\" style=\"text-align: center;\">\n",
       "                    Figure\n",
       "                </div>\n",
       "                <img src='data:image/png;base64,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' width=640.0/>\n",
       "            </div>\n",
       "        "
      ],
      "text/plain": [
       "Canvas(toolbar=Toolbar(toolitems=[('Home', 'Reset original view', 'home', 'home'), ('Back', 'Back to previous …"
      ]
     },
     "metadata": {},
     "output_type": "display_data"
    }
   ],
   "source": [
    "%matplotlib widget\n",
    "iris.plot.hist();"
   ]
  }
 ],
 "metadata": {
  "kernelspec": {
   "display_name": "Python 3 (ipykernel)",
   "language": "python",
   "name": "python3"
  },
  "language_info": {
   "codemirror_mode": {
    "name": "ipython",
    "version": 3
   },
   "file_extension": ".py",
   "mimetype": "text/x-python",
   "name": "python",
   "nbconvert_exporter": "python",
   "pygments_lexer": "ipython3",
   "version": "3.9.7"
  }
 },
 "nbformat": 4,
 "nbformat_minor": 5
}
